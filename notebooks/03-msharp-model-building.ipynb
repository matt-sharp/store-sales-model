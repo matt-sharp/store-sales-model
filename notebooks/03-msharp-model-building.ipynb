{
 "cells": [
  {
   "cell_type": "code",
   "execution_count": null,
   "metadata": {},
   "outputs": [],
   "source": [
    "%load_ext nb_black\n",
    "# Load the \"autoreload\" extension so that code can change\n",
    "%load_ext autoreload\n",
    "# always reload modules so that as you change code in src, it gets loaded\n",
    "%autoreload 2"
   ]
  },
  {
   "cell_type": "code",
   "execution_count": null,
   "metadata": {},
   "outputs": [],
   "source": [
    "from src.data import make_dataset\n",
    "\n",
    "import os\n",
    "import numpy as np\n",
    "import pandas as pd\n",
    "import matplotlib.pyplot as plt\n",
    "import seaborn as sns\n",
    "\n",
    "from sklearn.ensemble import RandomForestRegressor\n",
    "from sklearn.model_selection import (\n",
    "    cross_validate,\n",
    "    cross_val_score,\n",
    "    train_test_split,\n",
    "    PredefinedSplit,\n",
    ")\n",
    "from sklearn.inspection import permutation_importance\n",
    "from sklearn.impute import SimpleImputer\n",
    "from sklearn.metrics import mean_squared_error, make_scorer\n",
    "from sklearn.pipeline import Pipeline\n",
    "from sklearn.preprocessing import (\n",
    "    StandardScaler,\n",
    "    OneHotEncoder,\n",
    "    OrdinalEncoder,\n",
    "    FunctionTransformer,\n",
    ")\n",
    "from sklearn.compose import ColumnTransformer\n",
    "\n",
    "# from category_encoders import OrdinalEncoder\n",
    "from sklearn.feature_selection._base import SelectorMixin\n",
    "from sklearn.feature_extraction.text import _VectorizerMixin\n",
    "from sklearn.inspection import permutation_importance\n",
    "from rfpimp import *\n",
    "from IPython.display import display, HTML\n",
    "from sklearn.model_selection import RandomizedSearchCV\n",
    "from sklearn.linear_model import LinearRegression, Ridge, Lasso\n",
    "\n",
    "import shap  # package used to calculate Shap values\n",
    "from tpot import TPOTRegressor"
   ]
  },
  {
   "cell_type": "markdown",
   "metadata": {},
   "source": [
    "# Model Building\n",
    "\n",
    " Scoring Metrics\n",
    "- R-squared\n",
    " - shows the proportional improvement in prediction from the regression model, compared to the mean model.\n",
    " - a\n",
    " good model can give R-squared score close to 1.0 but it does not mean it should be. \n",
    "\n",
    "- MSE (Mean Squared Error)\n",
    " - indicates the absolute fit of the model to the data; how close the observed data points are to the model’s predicted values\n",
    " - Models which have low R-squared can also give low MSE score. \n",
    " - RMSE has the useful property of being in the same units as the response variable.\n",
    " \n",
    "To ensure the predictive power of the model it is best to use MSE and R-squared.\n",
    " \n",
    "- OOB (Out-of-Bag) score \n",
    " - technically also an R2 score, because it uses the same mathematical formula\n",
    " - RF calculates it internally using only the training data\n",
    " - both scores predict the generalizability of the model – i.e. its expected performance on new, unseen data\n",
    " - can be used if you don’t have enough data to split for train and validation set"
   ]
  },
  {
   "cell_type": "markdown",
   "metadata": {},
   "source": [
    "## Baseline"
   ]
  },
  {
   "cell_type": "code",
   "execution_count": 25,
   "metadata": {},
   "outputs": [
    {
     "name": "stdout",
     "output_type": "stream",
     "text": [
      "{'bootstrap': True, 'ccp_alpha': 0.0, 'criterion': 'mse', 'max_depth': None, 'max_features': 'auto', 'max_leaf_nodes': None, 'max_samples': None, 'min_impurity_decrease': 0.0, 'min_impurity_split': None, 'min_samples_leaf': 1, 'min_samples_split': 2, 'min_weight_fraction_leaf': 0.0, 'n_estimators': 100, 'n_jobs': None, 'oob_score': True, 'random_state': 42, 'verbose': 0, 'warm_start': False}\n",
      "Model evaluation without any added features:\n",
      "Number of features used: 16\n",
      "R-squared Value (train)   :0.98\n",
      "R-squared Value (test)    :0.86\n",
      "OOB (Out-Of-Bag) value    :0.82\n",
      "Mean Squared Error (train):0.02\n",
      "Mean Squared Error (test) :0.13\n",
      "Model evaluation including transformed features:\n",
      "Number of features used: 25\n",
      "R-squared Value (train)   :0.98\n",
      "R-squared Value (test)    :0.85\n",
      "OOB (Out-Of-Bag) value    :0.83\n",
      "Mean Squared Error (train):0.02\n",
      "Mean Squared Error (test) :0.13\n"
     ]
    }
   ],
   "source": [
    "# restrict training data to original features only\n",
    "X_train_orig = X_train[orig_features]\n",
    "X_test_orig = X_test[orig_features]\n",
    "\n",
    "# baseline RF model with default hyperparameter settings using training data\n",
    "rf0 = RandomForestRegressor(random_state=seed, oob_score=True)\n",
    "\n",
    "# fit the model to the training data without any added features\n",
    "rf0.fit(X_train_orig, y_train)\n",
    "\n",
    "# check which hyperparameter settings are used\n",
    "print(rf0.get_params())\n",
    "\n",
    "# baseline RF model with default hyperparameter settings using training data\n",
    "rf1 = RandomForestRegressor(random_state=seed, oob_score=True)\n",
    "\n",
    "# fit the model to the training data without any added features\n",
    "rf1.fit(X_train, y_train)\n",
    "\n",
    "# hold-out method\n",
    "def fit_and_evaluate_model(model, train_set, test_set):\n",
    "\n",
    "    print(\"Number of features used:\", model.n_features_)\n",
    "\n",
    "    # score the model on the train data\n",
    "    print(\"R-squared Value (train)   :{:.2f}\".format(model.score(train_set, y_train)))\n",
    "    # score the model on the test data\n",
    "    print(\"R-squared Value (test)    :{:.2f}\".format(model.score(test_set, y_test)))\n",
    "    # Out-Of_Bag score\n",
    "    print(\"OOB (Out-Of-Bag) value    :{:.2f}\".format(model.oob_score_))\n",
    "\n",
    "    # calculated the mse by comparing predictions against true values\n",
    "    print(\n",
    "        \"Mean Squared Error (train):{:.2f}\".format(\n",
    "            mean_squared_error(y_train, model.predict(train_set))\n",
    "        )\n",
    "    )\n",
    "    print(\n",
    "        \"Mean Squared Error (test) :{:.2f}\".format(\n",
    "            mean_squared_error(y_test, model.predict(test_set))\n",
    "        )\n",
    "    )\n",
    "\n",
    "\n",
    "print(\"Model evaluation without any added features:\")\n",
    "fit_and_evaluate_model(rf0, X_train_orig, X_test_orig)\n",
    "\n",
    "print(\"Model evaluation including transformed features:\")\n",
    "fit_and_evaluate_model(rf1, X_train, X_test)"
   ]
  },
  {
   "cell_type": "markdown",
   "metadata": {},
   "source": [
    "Due to there being a low number of training samples we can see a big variation in the model accuracy when using\n",
    "random sampling to split our data into training and validation sets.\n",
    "If we change the random seed or not use one at all then the accuracy score can change siginificantly each time.\n",
    "\n",
    "K-fold cross-validation or OOB score are more robust evaluation techniques to use for a dataset of this size."
   ]
  },
  {
   "cell_type": "code",
   "execution_count": 26,
   "metadata": {},
   "outputs": [
    {
     "name": "stdout",
     "output_type": "stream",
     "text": [
      "R-squared values (train)              : [0.97686551 0.97380875 0.97368478 0.97113286 0.96868848]\n",
      "R-squared values mean (train)         : 0.97\n",
      "R-squared values (test)               : [0.85871083 0.8465355  0.87732193 0.79814245 0.75213391]\n",
      "R-squared values mean (test)          : 0.83\n",
      "Mean Squared Error values (train)     : [-0.02349616 -0.0272298  -0.0242299  -0.02620206 -0.02932613]\n",
      "Mean Squared Error mean (train)       : -0.03\n",
      "Mean Squared Error values (test)      : [-0.10714941 -0.10127093 -0.13929581 -0.24019075 -0.26467162]\n",
      "Mean Squared Error values mean (test) : -0.17\n"
     ]
    }
   ],
   "source": [
    "# K-fold cross-validation\n",
    "rf1 = cross_validate(\n",
    "    rf0,\n",
    "    X_train,\n",
    "    y_train,\n",
    "    return_train_score=True,\n",
    "    scoring=(\"r2\", \"neg_mean_squared_error\"),\n",
    "    cv=5,\n",
    ")\n",
    "print(\"R-squared values (train)              : {}\".format(rf1[\"train_r2\"]))\n",
    "print(\"R-squared values mean (train)         : {:.2f}\".format(rf1[\"train_r2\"].mean()))\n",
    "print(\"R-squared values (test)               : {}\".format(rf1[\"test_r2\"]))\n",
    "print(\"R-squared values mean (test)          : {:.2f}\".format(rf1[\"test_r2\"].mean()))\n",
    "print(\n",
    "    \"Mean Squared Error values (train)     : {}\".format(\n",
    "        rf1[\"train_neg_mean_squared_error\"]\n",
    "    )\n",
    ")\n",
    "print(\n",
    "    \"Mean Squared Error mean (train)       : {:.2f}\".format(\n",
    "        rf1[\"train_neg_mean_squared_error\"].mean()\n",
    "    )\n",
    ")\n",
    "print(\n",
    "    \"Mean Squared Error values (test)      : {}\".format(\n",
    "        rf1[\"test_neg_mean_squared_error\"]\n",
    "    )\n",
    ")\n",
    "print(\n",
    "    \"Mean Squared Error values mean (test) : {:.2f}\".format(\n",
    "        rf1[\"test_neg_mean_squared_error\"].mean()\n",
    "    )\n",
    ")\n",
    "\n",
    "# due to there being a low number of training samples we can see a big variation in the model accuracy when using\n",
    "# random sampling to split our data into training and validation sets\n",
    "# If we change the random seed or not use one at all then the accuracy score can change siginificantly each time\n",
    "# K-fold cross-validation is a much more robust method to use"
   ]
  },
  {
   "cell_type": "code",
   "execution_count": 27,
   "metadata": {},
   "outputs": [
    {
     "name": "stdout",
     "output_type": "stream",
     "text": [
      "R-squared Value (train)   :0.97\n",
      "R-squared Value (test)    :0.84\n",
      "OOB (Out-Of-Bag) value    :0.81\n",
      "Mean Squared Error (train):0.02\n",
      "Mean Squared Error (test) :0.14\n"
     ]
    }
   ],
   "source": [
    "# using the pipeline to preprocess the raw data before fitting the model\n",
    "\n",
    "# use the raw data before any pre-processing has been completed\n",
    "# split the target value\n",
    "X = train.drop(columns=[\"normalised_sales\"])\n",
    "y = train[\"normalised_sales\"]\n",
    "\n",
    "# split the data into training and validation sets\n",
    "X_train_raw, X_test_raw, y_train_raw, y_test_raw = train_test_split(\n",
    "    X, y, test_size=0.25, random_state=seed\n",
    ")\n",
    "\n",
    "# baseline RF model with default hyperparameter settings\n",
    "rf2 = RandomForestRegressor(random_state=seed, oob_score=True)\n",
    "\n",
    "rf2 = Pipeline(steps=[(\"preprocessor\", preprocessor), (\"m\", rf2)])\n",
    "\n",
    "# # fit the model to the training data\n",
    "rf2.fit(X_train_raw, y_train_raw)\n",
    "\n",
    "# score the model on the train data\n",
    "print(\"R-squared Value (train)   :{:.2f}\".format(rf2.score(X_train_raw, y_train_raw)))\n",
    "# score the model on the test data\n",
    "print(\"R-squared Value (test)    :{:.2f}\".format(rf2.score(X_test_raw, y_test_raw)))\n",
    "# Out-Of_Bag score\n",
    "print(\"OOB (Out-Of-Bag) value    :{:.2f}\".format(rf2.steps[1][1].oob_score_))\n",
    "\n",
    "# calculated the mse by comparing predictions against true values\n",
    "print(\n",
    "    \"Mean Squared Error (train):{:.2f}\".format(\n",
    "        mean_squared_error(y_train_raw, rf2.predict(X_train_raw))\n",
    "    )\n",
    ")\n",
    "print(\n",
    "    \"Mean Squared Error (test) :{:.2f}\".format(\n",
    "        mean_squared_error(y_test_raw, rf2.predict(X_test_raw))\n",
    "    )\n",
    ")"
   ]
  },
  {
   "cell_type": "markdown",
   "metadata": {},
   "source": [
    "## Feature Selection\n",
    "We want to create a model that includes only the most important features to:\n",
    "1. Reduce the variance of the model, and therefore overfitting\n",
    "2. Make our model more simple to interpret\n",
    "3. Reduce the computational cost (and time) of training a model"
   ]
  },
  {
   "cell_type": "markdown",
   "metadata": {},
   "source": [
    "## Feature Importance vs. Permutation Importance\n",
    "The impurity-based feature importance of random forests suffers from being computed on statistics derived from the training dataset: the importances can be high even for features that are not predictive of the target variable, as long as the model has the capacity to use them to overfit.\n",
    "\n",
    "Two limitations of impurity-based feature importances:\n",
    "1. impurity-based importances are biased towards high cardinality features;\n",
    "2. impurity-based importances are computed on training set statistics and therefore do not reflect the ability of the feature to be useful to make predictions that generalize to the test set\n",
    "\n",
    "Permutation Importances can mitigate these limitations.\n",
    "\n",
    "In the chart below on the left we can see the feature location_id is ranked the ninth most important.\n",
    "We have already identified this feature as being non-predictive since it has the lowest correlation with the target value and has a random univariate distribution.  Whereas, the chart on the right shows it is much less important."
   ]
  },
  {
   "cell_type": "code",
   "execution_count": 28,
   "metadata": {},
   "outputs": [
    {
     "data": {
      "image/png": "[encoded data removed]",
      "text/plain": [
       "<Figure size 1440x576 with 2 Axes>"
      ]
     },
     "metadata": {
      "needs_background": "light"
     },
     "output_type": "display_data"
    }
   ],
   "source": [
    "# baseline RF model with default hyperparameter settings using training data without any added features\n",
    "rf3 = RandomForestRegressor(random_state=seed, oob_score=True)\n",
    "\n",
    "# fit the model to the training data\n",
    "rf3.fit(X_train, y_train)\n",
    "\n",
    "result = permutation_importance(rf3, X_train, y_train, n_repeats=10, random_state=seed)\n",
    "perm_sorted_idx = result.importances_mean.argsort()\n",
    "\n",
    "tree_importance_sorted_idx = np.argsort(rf3.feature_importances_)\n",
    "tree_indices = np.arange(0, len(rf3.feature_importances_)) + 0.5\n",
    "\n",
    "fig, (ax1, ax2) = plt.subplots(1, 2, figsize=(20, 8))\n",
    "ax1.barh(tree_indices, rf3.feature_importances_[tree_importance_sorted_idx], height=0.7)\n",
    "ax1.set_yticklabels(X_train.columns[tree_importance_sorted_idx])\n",
    "ax1.set_yticks(tree_indices)\n",
    "ax1.set_ylim((0, len(rf3.feature_importances_)))\n",
    "ax2.boxplot(\n",
    "    result.importances[perm_sorted_idx].T,\n",
    "    vert=False,\n",
    "    labels=X_train.columns[perm_sorted_idx],\n",
    ")\n",
    "ax1.set_title(\"Feature Importance (train set)\")\n",
    "ax2.set_title(\"Permutation Importance (train set)\")\n",
    "fig.tight_layout()\n",
    "plt.show()"
   ]
  },
  {
   "cell_type": "code",
   "execution_count": 29,
   "metadata": {},
   "outputs": [
    {
     "data": {
      "image/png": "[encoded data removed]",
      "text/plain": [
       "<Figure size 288x397.44 with 1 Axes>"
      ]
     },
     "metadata": {
      "needs_background": "light"
     },
     "output_type": "display_data"
    }
   ],
   "source": [
    "# a cleaner implmentation of permutation importance\n",
    "imp = importances(rf3, X_train, y_train)\n",
    "viz = plot_importances(imp)\n",
    "viz.view()"
   ]
  },
  {
   "cell_type": "code",
   "execution_count": 30,
   "metadata": {},
   "outputs": [
    {
     "name": "stdout",
     "output_type": "stream",
     "text": [
      "Model evaluation keeping only the most important features:\n",
      "Number of features used: 7\n",
      "R-squared Value (train)   :0.98\n",
      "R-squared Value (test)    :0.85\n",
      "OOB (Out-Of-Bag) value    :0.83\n",
      "Mean Squared Error (train):0.02\n",
      "Mean Squared Error (test) :0.13\n"
     ]
    }
   ],
   "source": [
    "# keeping only the most important features\n",
    "X_train2 = X_train[\n",
    "    [\n",
    "        \"household_size\",\n",
    "        \"household_affluency\",\n",
    "        \"county\",\n",
    "        \"crime_rate\",\n",
    "        \"public_transport_dist\",\n",
    "        \"property_value\",\n",
    "        \"school_proximity\",\n",
    "    ]\n",
    "]\n",
    "X_test2 = X_test[\n",
    "    [\n",
    "        \"household_size\",\n",
    "        \"household_affluency\",\n",
    "        \"county\",\n",
    "        \"crime_rate\",\n",
    "        \"public_transport_dist\",\n",
    "        \"property_value\",\n",
    "        \"school_proximity\",\n",
    "    ]\n",
    "]\n",
    "\n",
    "# baseline RF model with default hyperparameter settings using training data\n",
    "rf4 = RandomForestRegressor(random_state=seed, oob_score=True)\n",
    "\n",
    "# fit the model to the training data without any added features\n",
    "rf4.fit(X_train2, y_train)\n",
    "\n",
    "print(\"Model evaluation keeping only the most important features:\")\n",
    "fit_and_evaluate_model(rf4, X_train2, X_test2)\n",
    "\n",
    "# we can achieve the same level of accuracy by only using 7 features"
   ]
  },
  {
   "cell_type": "markdown",
   "metadata": {},
   "source": [
    "## Randomised Search\n",
    "\n",
    "Grid Search and Randomised Search are 2 different techniques that can be used to tune the model hyperparameters.\n",
    "\n",
    "In my experience Randomised Search often picks the best result more often than not and in a fraction of the time it takes GridSearchCV."
   ]
  },
  {
   "cell_type": "code",
   "execution_count": 46,
   "metadata": {},
   "outputs": [
    {
     "name": "stdout",
     "output_type": "stream",
     "text": [
      "{'n_estimators': [200, 400, 600, 800, 1000, 1200, 1400, 1600, 1800, 2000], 'max_features': ['auto', 'sqrt'], 'max_depth': [10, 20, 30, 40, 50, 60, 70, 80, 90, 100, 110, None], 'min_samples_split': [2, 5, 10], 'min_samples_leaf': [1, 2, 4], 'bootstrap': [True, False]}\n"
     ]
    },
    {
     "data": {
      "application/javascript": [
       "\n",
       "            setTimeout(function() {\n",
       "                var nbb_cell_id = 46;\n",
       "                var nbb_unformatted_code = \"# Number of trees in random forest\\nn_estimators = [int(x) for x in np.linspace(start=200, stop=2000, num=10)]\\n# Number of features to consider at every split\\nmax_features = [\\\"auto\\\", \\\"sqrt\\\"]\\n# Maximum number of levels in tree\\nmax_depth = [int(x) for x in np.linspace(10, 110, num=11)]\\nmax_depth.append(None)\\n# Minimum number of samples required to split a node\\nmin_samples_split = [2, 5, 10]\\n# Minimum number of samples required at each leaf node\\nmin_samples_leaf = [1, 2, 4]\\n# Method of selecting samples for training each tree\\nbootstrap = [True, False]\\n# Create the random grid\\nrandom_grid = {\\n    \\\"n_estimators\\\": n_estimators,\\n    \\\"max_features\\\": max_features,\\n    \\\"max_depth\\\": max_depth,\\n    \\\"min_samples_split\\\": min_samples_split,\\n    \\\"min_samples_leaf\\\": min_samples_leaf,\\n    \\\"bootstrap\\\": bootstrap,\\n}\\n\\nprint(random_grid)\";\n",
       "                var nbb_formatted_code = \"# Number of trees in random forest\\nn_estimators = [int(x) for x in np.linspace(start=200, stop=2000, num=10)]\\n# Number of features to consider at every split\\nmax_features = [\\\"auto\\\", \\\"sqrt\\\"]\\n# Maximum number of levels in tree\\nmax_depth = [int(x) for x in np.linspace(10, 110, num=11)]\\nmax_depth.append(None)\\n# Minimum number of samples required to split a node\\nmin_samples_split = [2, 5, 10]\\n# Minimum number of samples required at each leaf node\\nmin_samples_leaf = [1, 2, 4]\\n# Method of selecting samples for training each tree\\nbootstrap = [True, False]\\n# Create the random grid\\nrandom_grid = {\\n    \\\"n_estimators\\\": n_estimators,\\n    \\\"max_features\\\": max_features,\\n    \\\"max_depth\\\": max_depth,\\n    \\\"min_samples_split\\\": min_samples_split,\\n    \\\"min_samples_leaf\\\": min_samples_leaf,\\n    \\\"bootstrap\\\": bootstrap,\\n}\\n\\nprint(random_grid)\";\n",
       "                var nbb_cells = Jupyter.notebook.get_cells();\n",
       "                for (var i = 0; i < nbb_cells.length; ++i) {\n",
       "                    if (nbb_cells[i].input_prompt_number == nbb_cell_id) {\n",
       "                        if (nbb_cells[i].get_text() == nbb_unformatted_code) {\n",
       "                             nbb_cells[i].set_text(nbb_formatted_code);\n",
       "                        }\n",
       "                        break;\n",
       "                    }\n",
       "                }\n",
       "            }, 500);\n",
       "            "
      ],
      "text/plain": [
       "<IPython.core.display.Javascript object>"
      ]
     },
     "metadata": {},
     "output_type": "display_data"
    }
   ],
   "source": [
    "# Number of trees in random forest\n",
    "n_estimators = [int(x) for x in np.linspace(start=200, stop=2000, num=10)]\n",
    "# Number of features to consider at every split\n",
    "max_features = [\"auto\", \"sqrt\"]\n",
    "# Maximum number of levels in tree\n",
    "max_depth = [int(x) for x in np.linspace(10, 110, num=11)]\n",
    "max_depth.append(None)\n",
    "# Minimum number of samples required to split a node\n",
    "min_samples_split = [2, 5, 10]\n",
    "# Minimum number of samples required at each leaf node\n",
    "min_samples_leaf = [1, 2, 4]\n",
    "# Method of selecting samples for training each tree\n",
    "bootstrap = [True, False]\n",
    "# Create the random grid\n",
    "random_grid = {\n",
    "    \"n_estimators\": n_estimators,\n",
    "    \"max_features\": max_features,\n",
    "    \"max_depth\": max_depth,\n",
    "    \"min_samples_split\": min_samples_split,\n",
    "    \"min_samples_leaf\": min_samples_leaf,\n",
    "    \"bootstrap\": bootstrap,\n",
    "}\n",
    "\n",
    "print(random_grid)"
   ]
  },
  {
   "cell_type": "code",
   "execution_count": 47,
   "metadata": {},
   "outputs": [
    {
     "name": "stdout",
     "output_type": "stream",
     "text": [
      "Fitting 10 folds for each of 100 candidates, totalling 1000 fits\n"
     ]
    },
    {
     "name": "stderr",
     "output_type": "stream",
     "text": [
      "[Parallel(n_jobs=-1)]: Using backend LokyBackend with 4 concurrent workers.\n",
      "[Parallel(n_jobs=-1)]: Done  33 tasks      | elapsed:   41.8s\n",
      "[Parallel(n_jobs=-1)]: Done 154 tasks      | elapsed:  2.5min\n",
      "[Parallel(n_jobs=-1)]: Done 357 tasks      | elapsed:  5.9min\n",
      "[Parallel(n_jobs=-1)]: Done 640 tasks      | elapsed:  9.9min\n",
      "[Parallel(n_jobs=-1)]: Done 1000 out of 1000 | elapsed: 16.3min finished\n"
     ]
    },
    {
     "name": "stdout",
     "output_type": "stream",
     "text": [
      "Best parameter (CV score=0.852):\n",
      "R-squared Value (test)    :0.85\n",
      "Mean Squared Error (test) :0.13\n",
      "{'n_estimators': 1000, 'min_samples_split': 2, 'min_samples_leaf': 1, 'max_features': 'sqrt', 'max_depth': 110, 'bootstrap': True}\n"
     ]
    },
    {
     "data": {
      "application/javascript": [
       "\n",
       "            setTimeout(function() {\n",
       "                var nbb_cell_id = 47;\n",
       "                var nbb_unformatted_code = \"# baseline RF model with default hyperparameter settings using training data\\nrf5 = RandomForestRegressor()\\n\\n# fit the model to the training data without any added features\\nrf5.fit(X_train2, y_train)\\n\\nrf_random = RandomizedSearchCV(\\n    rf5,\\n    param_distributions=random_grid,\\n    n_iter=100,\\n    cv=10,\\n    verbose=2,\\n    random_state=seed,\\n    n_jobs=-1,\\n)\\nrf_random.fit(X_train2, y_train)\\nprint(\\\"Best parameter (CV score=%0.3f):\\\" % rf_random.best_score_)\\nprint(\\\"R-squared Value (test)    :{:.2f}\\\".format(rf_random.score(X_test2, y_test)))\\nprint(\\n    \\\"Mean Squared Error (test) :{:.2f}\\\".format(\\n        mean_squared_error(y_test, rf_random.predict(X_test2))\\n    )\\n)\\nprint(rf_random.best_params_)\";\n",
       "                var nbb_formatted_code = \"# baseline RF model with default hyperparameter settings using training data\\nrf5 = RandomForestRegressor()\\n\\n# fit the model to the training data without any added features\\nrf5.fit(X_train2, y_train)\\n\\nrf_random = RandomizedSearchCV(\\n    rf5,\\n    param_distributions=random_grid,\\n    n_iter=100,\\n    cv=10,\\n    verbose=2,\\n    random_state=seed,\\n    n_jobs=-1,\\n)\\nrf_random.fit(X_train2, y_train)\\nprint(\\\"Best parameter (CV score=%0.3f):\\\" % rf_random.best_score_)\\nprint(\\\"R-squared Value (test)    :{:.2f}\\\".format(rf_random.score(X_test2, y_test)))\\nprint(\\n    \\\"Mean Squared Error (test) :{:.2f}\\\".format(\\n        mean_squared_error(y_test, rf_random.predict(X_test2))\\n    )\\n)\\nprint(rf_random.best_params_)\";\n",
       "                var nbb_cells = Jupyter.notebook.get_cells();\n",
       "                for (var i = 0; i < nbb_cells.length; ++i) {\n",
       "                    if (nbb_cells[i].input_prompt_number == nbb_cell_id) {\n",
       "                        if (nbb_cells[i].get_text() == nbb_unformatted_code) {\n",
       "                             nbb_cells[i].set_text(nbb_formatted_code);\n",
       "                        }\n",
       "                        break;\n",
       "                    }\n",
       "                }\n",
       "            }, 500);\n",
       "            "
      ],
      "text/plain": [
       "<IPython.core.display.Javascript object>"
      ]
     },
     "metadata": {},
     "output_type": "display_data"
    }
   ],
   "source": [
    "# baseline RF model with default hyperparameter settings using training data\n",
    "rf5 = RandomForestRegressor()\n",
    "\n",
    "# fit the model to the training data without any added features\n",
    "rf5.fit(X_train2, y_train)\n",
    "\n",
    "rf_random = RandomizedSearchCV(\n",
    "    rf5,\n",
    "    param_distributions=random_grid,\n",
    "    n_iter=100,\n",
    "    cv=10,\n",
    "    verbose=2,\n",
    "    random_state=seed,\n",
    "    n_jobs=-1,\n",
    ")\n",
    "rf_random.fit(X_train2, y_train)\n",
    "print(\"Best parameter (CV score=%0.3f):\" % rf_random.best_score_)\n",
    "print(\"R-squared Value (test)    :{:.2f}\".format(rf_random.score(X_test2, y_test)))\n",
    "print(\n",
    "    \"Mean Squared Error (test) :{:.2f}\".format(\n",
    "        mean_squared_error(y_test, rf_random.predict(X_test2))\n",
    "    )\n",
    ")\n",
    "print(rf_random.best_params_)"
   ]
  },
  {
   "cell_type": "code",
   "execution_count": 48,
   "metadata": {},
   "outputs": [
    {
     "name": "stdout",
     "output_type": "stream",
     "text": [
      "R-squared Value (train)   :0.98\n",
      "R-squared Value (test)    :0.86\n",
      "Mean Squared Error (train):0.02\n",
      "Mean Squared Error (test) :0.13\n"
     ]
    },
    {
     "data": {
      "application/javascript": [
       "\n",
       "            setTimeout(function() {\n",
       "                var nbb_cell_id = 48;\n",
       "                var nbb_unformatted_code = \"rf_random.best_estimator_.fit(X_train2, y_train)\\n# score the model on the train data\\nprint(\\\"R-squared Value (train)   :{:.2f}\\\".format(rf_random.score(X_train2, y_train)))\\n# score the model on the test data\\nprint(\\\"R-squared Value (test)    :{:.2f}\\\".format(rf_random.score(X_test2, y_test)))\\n# Out-Of_Bag score\\n# print(\\\"OOB (Out-Of-Bag) value    :{:.2f}\\\".format(rf_random.oob_score_))\\n\\n# calculated the mse by comparing predictions against true values\\nprint(\\n    \\\"Mean Squared Error (train):{:.2f}\\\".format(\\n        mean_squared_error(y_train, rf_random.predict(X_train2))\\n    )\\n)\\nprint(\\n    \\\"Mean Squared Error (test) :{:.2f}\\\".format(\\n        mean_squared_error(y_test, rf_random.predict(X_test2))\\n    )\\n)\\n\\n# this model is overfitting\";\n",
       "                var nbb_formatted_code = \"rf_random.best_estimator_.fit(X_train2, y_train)\\n# score the model on the train data\\nprint(\\\"R-squared Value (train)   :{:.2f}\\\".format(rf_random.score(X_train2, y_train)))\\n# score the model on the test data\\nprint(\\\"R-squared Value (test)    :{:.2f}\\\".format(rf_random.score(X_test2, y_test)))\\n# Out-Of_Bag score\\n# print(\\\"OOB (Out-Of-Bag) value    :{:.2f}\\\".format(rf_random.oob_score_))\\n\\n# calculated the mse by comparing predictions against true values\\nprint(\\n    \\\"Mean Squared Error (train):{:.2f}\\\".format(\\n        mean_squared_error(y_train, rf_random.predict(X_train2))\\n    )\\n)\\nprint(\\n    \\\"Mean Squared Error (test) :{:.2f}\\\".format(\\n        mean_squared_error(y_test, rf_random.predict(X_test2))\\n    )\\n)\\n\\n# this model is overfitting\";\n",
       "                var nbb_cells = Jupyter.notebook.get_cells();\n",
       "                for (var i = 0; i < nbb_cells.length; ++i) {\n",
       "                    if (nbb_cells[i].input_prompt_number == nbb_cell_id) {\n",
       "                        if (nbb_cells[i].get_text() == nbb_unformatted_code) {\n",
       "                             nbb_cells[i].set_text(nbb_formatted_code);\n",
       "                        }\n",
       "                        break;\n",
       "                    }\n",
       "                }\n",
       "            }, 500);\n",
       "            "
      ],
      "text/plain": [
       "<IPython.core.display.Javascript object>"
      ]
     },
     "metadata": {},
     "output_type": "display_data"
    }
   ],
   "source": [
    "rf_random.best_estimator_.fit(X_train2, y_train)\n",
    "# score the model on the train data\n",
    "print(\"R-squared Value (train)   :{:.2f}\".format(rf_random.score(X_train2, y_train)))\n",
    "# score the model on the test data\n",
    "print(\"R-squared Value (test)    :{:.2f}\".format(rf_random.score(X_test2, y_test)))\n",
    "# Out-Of_Bag score\n",
    "# print(\"OOB (Out-Of-Bag) value    :{:.2f}\".format(rf_random.oob_score_))\n",
    "\n",
    "# calculated the mse by comparing predictions against true values\n",
    "print(\n",
    "    \"Mean Squared Error (train):{:.2f}\".format(\n",
    "        mean_squared_error(y_train, rf_random.predict(X_train2))\n",
    "    )\n",
    ")\n",
    "print(\n",
    "    \"Mean Squared Error (test) :{:.2f}\".format(\n",
    "        mean_squared_error(y_test, rf_random.predict(X_test2))\n",
    "    )\n",
    ")\n",
    "\n",
    "# this model is overfitting"
   ]
  },
  {
   "cell_type": "code",
   "execution_count": 50,
   "metadata": {},
   "outputs": [
    {
     "name": "stdout",
     "output_type": "stream",
     "text": [
      "Model evaluation without any added features:\n",
      "Number of features used: 16\n",
      "R-squared Value (train)   :0.98\n",
      "R-squared Value (test)    :0.86\n",
      "OOB (Out-Of-Bag) value    :0.86\n",
      "Mean Squared Error (train):0.02\n",
      "Mean Squared Error (test) :0.12\n"
     ]
    }
   ],
   "source": [
    "# RF model with manuall adjusted hyperparameter settings\n",
    "rf6 = RandomForestRegressor(random_state=seed, oob_score=True, n_estimators = 1000, max_depth = 10, min_samples_leaf = 1,\n",
    "                           max_features = 'sqrt', min_samples_split = 2, bootstrap = True)\n",
    "\n",
    "# fit the model to the training data without any added features\n",
    "rf6.fit(X_train_orig, y_train)\n",
    "\n",
    "# hold-out method\n",
    "def fit_and_evaluate_model(model, train_set, test_set):\n",
    "\n",
    "    print(\"Number of features used:\", model.n_features_)\n",
    "\n",
    "    # score the model on the train data\n",
    "    print(\"R-squared Value (train)   :{:.2f}\".format(model.score(train_set, y_train)))\n",
    "    # score the model on the test data\n",
    "    print(\"R-squared Value (test)    :{:.2f}\".format(model.score(test_set, y_test)))\n",
    "    # Out-Of_Bag score\n",
    "    print(\"OOB (Out-Of-Bag) value    :{:.2f}\".format(model.oob_score_))\n",
    "\n",
    "    # calculated the mse by comparing predictions against true values\n",
    "    print(\n",
    "        \"Mean Squared Error (train):{:.2f}\".format(\n",
    "            mean_squared_error(y_train, model.predict(train_set))\n",
    "        )\n",
    "    )\n",
    "    print(\n",
    "        \"Mean Squared Error (test) :{:.2f}\".format(\n",
    "            mean_squared_error(y_test, model.predict(test_set))\n",
    "        )\n",
    "    )\n",
    "\n",
    "\n",
    "print(\"Model evaluation without any added features:\")\n",
    "fit_and_evaluate_model(rf6, X_train_orig, X_test_orig)"
   ]
  }
 ],
 "metadata": {
  "kernelspec": {
   "display_name": "Python 3",
   "language": "python",
   "name": "python3"
  },
  "language_info": {
   "codemirror_mode": {
    "name": "ipython",
    "version": 3
   },
   "file_extension": ".py",
   "mimetype": "text/x-python",
   "name": "python",
   "nbconvert_exporter": "python",
   "pygments_lexer": "ipython3",
   "version": "3.7.6"
  }
 },
 "nbformat": 4,
 "nbformat_minor": 2
}
