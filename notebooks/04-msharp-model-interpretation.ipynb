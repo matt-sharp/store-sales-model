{
 "cells": [
  {
   "cell_type": "code",
   "execution_count": null,
   "metadata": {
    "lines_to_next_cell": 2
   },
   "outputs": [],
   "source": [
    "%load_ext nb_black\n",
    "# Load the \"autoreload\" extension so that code can change\n",
    "%load_ext autoreload\n",
    "# always reload modules so that as you change code in src, it gets loaded\n",
    "%autoreload 2"
   ]
  },
  {
   "cell_type": "code",
   "execution_count": null,
   "metadata": {},
   "outputs": [],
   "source": [
    "import pandas as pd\n",
    "import shap  # package used to calculate Shap values\n",
    "from rfpimp import X_train2, predict, rf_random, test\n",
    "\n",
    "\n",
    "# from category_encoders import OrdinalEncoder\n"
   ]
  },
  {
   "cell_type": "markdown",
   "metadata": {},
   "source": [
    "## Model Interpretation\n",
    "\n",
    "We can use Shapley values to find the local interpretation for a specific sample.  This means we can check the relative contribution of each feature to each store.\n",
    "They can also provide a global interpretation by looking at it in a combined form."
   ]
  },
  {
   "cell_type": "code",
   "execution_count": null,
   "metadata": {},
   "outputs": [],
   "source": [
    "# Create object that can calculate shap values\n",
    "explainer = shap.TreeExplainer(rf_random.best_estimator_)\n",
    "\n",
    "# Calculate Shap values\n",
    "shap_values = explainer.shap_values(X_train2)\n",
    "\n",
    "shap.initjs()\n",
    "\n",
    "# define sample using the location id\n",
    "i = 116\n",
    "\n",
    "# produce a visualisation of the local interpretation\n",
    "shap.force_plot(\n",
    "    explainer.expected_value,\n",
    "    shap_values[i],\n",
    "    features=X_train2.loc[i],\n",
    "    feature_names=X_train2.columns,\n",
    ")\n",
    "\n",
    "# this example shows that household_size, county, household_affluency and school_proximity all had a positive\n",
    "# contribution to the output value, size of effect in that order\n",
    "# crime_rate, property_value and public_transport_dist all had a negative effect, with size in that order"
   ]
  },
  {
   "cell_type": "code",
   "execution_count": null,
   "metadata": {},
   "outputs": [],
   "source": [
    "# global interpretation\n",
    "shap.summary_plot(shap_values, features=X_train2,\n",
    "                  feature_names=X_train2.columns)\n",
    "\n",
    "# the chart below shows that having a small household_size has a negative effect for many stores, having a large\n",
    "# household_size has a postive effect for fewer stores\n",
    "# having a high household affluency has a negative effect for many many stores, having a low household affluency has a\n",
    "# negative effect for slightly fewer stores"
   ]
  },
  {
   "cell_type": "markdown",
   "metadata": {},
   "source": [
    "## Model Predictions"
   ]
  },
  {
   "cell_type": "code",
   "execution_count": null,
   "metadata": {},
   "outputs": [],
   "source": [
    "# predict2 = df_combined.loc[df_combined[\"data\"] == \"predict\"].drop(\n",
    "#     columns=[\"normalised_sales\", \"data\"]\n",
    "# )\n",
    "predict2 = predict[\n",
    "    [\n",
    "        \"household_size\",\n",
    "        \"household_affluency\",\n",
    "        \"county\",\n",
    "        \"crime_rate\",\n",
    "        \"public_transport_dist\",\n",
    "        \"property_value\",\n",
    "        \"school_proximity\",\n",
    "    ]\n",
    "]\n",
    "\n",
    "predict2.head(5)"
   ]
  },
  {
   "cell_type": "code",
   "execution_count": null,
   "metadata": {},
   "outputs": [],
   "source": [
    "# make predictions for the potential new store locations\n",
    "preds = rf_random.predict(predict2)\n",
    "# return dataframe containing all features with predictions\n",
    "preds_df = pd.DataFrame(data=preds, columns=[\"preds\"], index=test.index.copy())\n",
    "preds_out = pd.merge(test, preds_df, how=\"left\",\n",
    "                     left_index=True, right_index=True)\n",
    "preds_out.head(5)"
   ]
  }
 ],
 "metadata": {
  "kernelspec": {
   "display_name": "Python 3",
   "language": "python",
   "name": "python3"
  }
 },
 "nbformat": 4,
 "nbformat_minor": 4
}
